{
 "cells": [
  {
   "cell_type": "markdown",
   "metadata": {},
   "source": [
    "## Project Description\n",
    "Weather Data of record high and record low temperatures over a 10 year period is plotted for each calendar day. An overlay scatter plot shows the record break in the temperature in the following year.\n",
    "\n",
    "## Data Resource\n",
    "Data is collected from [Daily Global Historical Climatology Network](https://www1.ncdc.noaa.gov/pub/data/ghcn/daily/readme.txt) (GHCN-Daily). The GHCN-Daily is comprised of daily climate records from thousands of land surface stations across the globe.\n",
    " \n",
    "The Weather data is for Ann Arbor area near Michigen United States. It consists of a time period ranging from 2005-2015. The data comes from various weather monitoring stations installed at different locations. Each data row corresponds to a single observation of weather data for a single day from one station. The data columns represent station ID, Date, Temperature Value and Element variable which has two possible values 'TMAX' and 'TMIN' representing weather the data reading is for maximum or minimum temperature recorded for the day.\n",
    "\n",
    "The data consists of 165k rows.\n",
    "\n",
    "## Methodology\n",
    "\n",
    "1. **Preprocessing Data:**  Some data prepocessing is required to bring the data in required form. First temperature data values are divided by 10 since they are given in tenths of values. Leap dates are dropped for the purpose of visualizing the data.\n",
    "2. **Splitting Data:** Data needs to be split into two time periods. First, 10 year time period from 2005 to 2014 and second, 2015 for making an overlay scatter plot of record break. Each dataset will be split further based on maximum temperature and minimum temperature values recorded in a day. \n",
    "3. **Grouping Data:** To find the record high and record low for a given calender day over the 10 year period the data will be grouped by calender day and the maximum and minimum temperature for that day will be extracted. For the year 2015, the data will be grouped in the same way and then it will be compared with the 10 year data to see if any record is broken for a given calender day. \n",
    "4. **Visualizing Data:** Finally, the data is visualized by making line plots for record high and record low temperatures for all 365 calender days. An overlay scatter plot is made to show any record that is broken in 2015 for a given calender day."
   ]
  },
  {
   "cell_type": "code",
   "execution_count": 128,
   "metadata": {},
   "outputs": [],
   "source": [
    "import pandas as pd\n",
    "import numpy as np\n",
    "import matplotlib.pyplot as plt"
   ]
  },
  {
   "cell_type": "code",
   "execution_count": 289,
   "metadata": {},
   "outputs": [
    {
     "data": {
      "text/html": [
       "<div>\n",
       "<style scoped>\n",
       "    .dataframe tbody tr th:only-of-type {\n",
       "        vertical-align: middle;\n",
       "    }\n",
       "\n",
       "    .dataframe tbody tr th {\n",
       "        vertical-align: top;\n",
       "    }\n",
       "\n",
       "    .dataframe thead th {\n",
       "        text-align: right;\n",
       "    }\n",
       "</style>\n",
       "<table border=\"1\" class=\"dataframe\">\n",
       "  <thead>\n",
       "    <tr style=\"text-align: right;\">\n",
       "      <th></th>\n",
       "      <th>ID</th>\n",
       "      <th>Date</th>\n",
       "      <th>Element</th>\n",
       "      <th>Data_Value</th>\n",
       "    </tr>\n",
       "  </thead>\n",
       "  <tbody>\n",
       "    <tr>\n",
       "      <th>0</th>\n",
       "      <td>USW00094889</td>\n",
       "      <td>2014-11-12</td>\n",
       "      <td>TMAX</td>\n",
       "      <td>22</td>\n",
       "    </tr>\n",
       "    <tr>\n",
       "      <th>1</th>\n",
       "      <td>USC00208972</td>\n",
       "      <td>2009-04-29</td>\n",
       "      <td>TMIN</td>\n",
       "      <td>56</td>\n",
       "    </tr>\n",
       "    <tr>\n",
       "      <th>2</th>\n",
       "      <td>USC00200032</td>\n",
       "      <td>2008-05-26</td>\n",
       "      <td>TMAX</td>\n",
       "      <td>278</td>\n",
       "    </tr>\n",
       "    <tr>\n",
       "      <th>3</th>\n",
       "      <td>USC00205563</td>\n",
       "      <td>2005-11-11</td>\n",
       "      <td>TMAX</td>\n",
       "      <td>139</td>\n",
       "    </tr>\n",
       "    <tr>\n",
       "      <th>4</th>\n",
       "      <td>USC00200230</td>\n",
       "      <td>2014-02-27</td>\n",
       "      <td>TMAX</td>\n",
       "      <td>-106</td>\n",
       "    </tr>\n",
       "  </tbody>\n",
       "</table>\n",
       "</div>"
      ],
      "text/plain": [
       "            ID        Date Element  Data_Value\n",
       "0  USW00094889  2014-11-12    TMAX          22\n",
       "1  USC00208972  2009-04-29    TMIN          56\n",
       "2  USC00200032  2008-05-26    TMAX         278\n",
       "3  USC00205563  2005-11-11    TMAX         139\n",
       "4  USC00200230  2014-02-27    TMAX        -106"
      ]
     },
     "execution_count": 289,
     "metadata": {},
     "output_type": "execute_result"
    }
   ],
   "source": [
    "df = pd.read_csv('data.csv')\n",
    "df.head()"
   ]
  },
  {
   "cell_type": "code",
   "execution_count": 290,
   "metadata": {},
   "outputs": [],
   "source": [
    "df['Data_Value'] = df['Data_Value']/10 # because temperature is given in tenths of values"
   ]
  },
  {
   "cell_type": "markdown",
   "metadata": {},
   "source": [
    "## 1. get day and month combined to be used as index later for the purpose of plotting"
   ]
  },
  {
   "cell_type": "code",
   "execution_count": 291,
   "metadata": {},
   "outputs": [],
   "source": [
    "df['Date'] = pd.to_datetime(df['Date'])"
   ]
  },
  {
   "cell_type": "code",
   "execution_count": 292,
   "metadata": {},
   "outputs": [
    {
     "data": {
      "text/plain": [
       "ID                    object\n",
       "Date          datetime64[ns]\n",
       "Element               object\n",
       "Data_Value           float64\n",
       "dtype: object"
      ]
     },
     "execution_count": 292,
     "metadata": {},
     "output_type": "execute_result"
    }
   ],
   "source": [
    "df.dtypes"
   ]
  },
  {
   "cell_type": "code",
   "execution_count": 293,
   "metadata": {},
   "outputs": [],
   "source": [
    "def get_day(x):\n",
    "    return x.day\n",
    "\n",
    "def get_month(x):\n",
    "    return x.month"
   ]
  },
  {
   "cell_type": "code",
   "execution_count": 294,
   "metadata": {},
   "outputs": [],
   "source": [
    "df['Day'] = df['Date'].apply(get_day)\n",
    "df['Month'] = df['Date'].apply(get_month)"
   ]
  },
  {
   "cell_type": "code",
   "execution_count": 295,
   "metadata": {},
   "outputs": [],
   "source": [
    "# df['Day'] = df['Day'].astype(str)\n",
    "# df['Month'] = df['Month'].astype(str)\n",
    "# df['monthday'] = df['Month'].astype(str) + '-' + df['Day'].astype(str) # we do not create this here because the columns don't\n",
    "# remain in grouped data"
   ]
  },
  {
   "cell_type": "code",
   "execution_count": 296,
   "metadata": {},
   "outputs": [
    {
     "data": {
      "text/html": [
       "<div>\n",
       "<style scoped>\n",
       "    .dataframe tbody tr th:only-of-type {\n",
       "        vertical-align: middle;\n",
       "    }\n",
       "\n",
       "    .dataframe tbody tr th {\n",
       "        vertical-align: top;\n",
       "    }\n",
       "\n",
       "    .dataframe thead th {\n",
       "        text-align: right;\n",
       "    }\n",
       "</style>\n",
       "<table border=\"1\" class=\"dataframe\">\n",
       "  <thead>\n",
       "    <tr style=\"text-align: right;\">\n",
       "      <th></th>\n",
       "      <th>ID</th>\n",
       "      <th>Date</th>\n",
       "      <th>Element</th>\n",
       "      <th>Data_Value</th>\n",
       "      <th>Day</th>\n",
       "      <th>Month</th>\n",
       "    </tr>\n",
       "  </thead>\n",
       "  <tbody>\n",
       "    <tr>\n",
       "      <th>0</th>\n",
       "      <td>USW00094889</td>\n",
       "      <td>2014-11-12</td>\n",
       "      <td>TMAX</td>\n",
       "      <td>2.2</td>\n",
       "      <td>12</td>\n",
       "      <td>11</td>\n",
       "    </tr>\n",
       "    <tr>\n",
       "      <th>1</th>\n",
       "      <td>USC00208972</td>\n",
       "      <td>2009-04-29</td>\n",
       "      <td>TMIN</td>\n",
       "      <td>5.6</td>\n",
       "      <td>29</td>\n",
       "      <td>4</td>\n",
       "    </tr>\n",
       "    <tr>\n",
       "      <th>2</th>\n",
       "      <td>USC00200032</td>\n",
       "      <td>2008-05-26</td>\n",
       "      <td>TMAX</td>\n",
       "      <td>27.8</td>\n",
       "      <td>26</td>\n",
       "      <td>5</td>\n",
       "    </tr>\n",
       "    <tr>\n",
       "      <th>3</th>\n",
       "      <td>USC00205563</td>\n",
       "      <td>2005-11-11</td>\n",
       "      <td>TMAX</td>\n",
       "      <td>13.9</td>\n",
       "      <td>11</td>\n",
       "      <td>11</td>\n",
       "    </tr>\n",
       "    <tr>\n",
       "      <th>4</th>\n",
       "      <td>USC00200230</td>\n",
       "      <td>2014-02-27</td>\n",
       "      <td>TMAX</td>\n",
       "      <td>-10.6</td>\n",
       "      <td>27</td>\n",
       "      <td>2</td>\n",
       "    </tr>\n",
       "  </tbody>\n",
       "</table>\n",
       "</div>"
      ],
      "text/plain": [
       "            ID       Date Element  Data_Value  Day  Month\n",
       "0  USW00094889 2014-11-12    TMAX         2.2   12     11\n",
       "1  USC00208972 2009-04-29    TMIN         5.6   29      4\n",
       "2  USC00200032 2008-05-26    TMAX        27.8   26      5\n",
       "3  USC00205563 2005-11-11    TMAX        13.9   11     11\n",
       "4  USC00200230 2014-02-27    TMAX       -10.6   27      2"
      ]
     },
     "execution_count": 296,
     "metadata": {},
     "output_type": "execute_result"
    }
   ],
   "source": [
    "df.head()"
   ]
  },
  {
   "cell_type": "code",
   "execution_count": 297,
   "metadata": {},
   "outputs": [
    {
     "data": {
      "text/plain": [
       "ID                    object\n",
       "Date          datetime64[ns]\n",
       "Element               object\n",
       "Data_Value           float64\n",
       "Day                    int64\n",
       "Month                  int64\n",
       "dtype: object"
      ]
     },
     "execution_count": 297,
     "metadata": {},
     "output_type": "execute_result"
    }
   ],
   "source": [
    "df.dtypes"
   ]
  },
  {
   "cell_type": "markdown",
   "metadata": {},
   "source": [
    "## 2. drop leap dates"
   ]
  },
  {
   "cell_type": "code",
   "execution_count": 298,
   "metadata": {},
   "outputs": [
    {
     "data": {
      "text/plain": [
       "(165085, 6)"
      ]
     },
     "execution_count": 298,
     "metadata": {},
     "output_type": "execute_result"
    }
   ],
   "source": [
    "df.shape"
   ]
  },
  {
   "cell_type": "code",
   "execution_count": 299,
   "metadata": {},
   "outputs": [],
   "source": [
    "def get_leapdate(x):\n",
    "    if not(x.month == 2 and x.day == 29):\n",
    "        return True\n",
    "    else:\n",
    "        return False"
   ]
  },
  {
   "cell_type": "code",
   "execution_count": 300,
   "metadata": {},
   "outputs": [],
   "source": [
    "df = df[df['Date'].apply(get_leapdate)]"
   ]
  },
  {
   "cell_type": "code",
   "execution_count": 301,
   "metadata": {},
   "outputs": [
    {
     "data": {
      "text/plain": [
       "(165002, 6)"
      ]
     },
     "execution_count": 301,
     "metadata": {},
     "output_type": "execute_result"
    }
   ],
   "source": [
    "df.shape"
   ]
  },
  {
   "cell_type": "markdown",
   "metadata": {},
   "source": [
    "## 3. Split by year. 2004-2014 and 2015"
   ]
  },
  {
   "cell_type": "code",
   "execution_count": 302,
   "metadata": {},
   "outputs": [],
   "source": [
    "#df1: 2004-2014 and df2: 2015\n",
    "df1 = df[df['Date'] < '2015-01-01 00:00:00']\n",
    "df2 = df[df['Date'] > '2014-12-31 00:00:00']"
   ]
  },
  {
   "cell_type": "markdown",
   "metadata": {},
   "source": [
    "## 4. Split data into tmax and tmin"
   ]
  },
  {
   "cell_type": "code",
   "execution_count": 303,
   "metadata": {},
   "outputs": [],
   "source": [
    "# 2004 to 2014\n",
    "tmax1 = df1[df1['Element'] == 'TMAX']\n",
    "tmin1 = df1[df1['Element'] == 'TMIN']\n",
    "\n",
    "# 2015\n",
    "tmax2 = df2[df2['Element'] == 'TMAX']\n",
    "tmin2 = df2[df2['Element'] == 'TMIN']"
   ]
  },
  {
   "cell_type": "code",
   "execution_count": 392,
   "metadata": {},
   "outputs": [
    {
     "data": {
      "text/plain": [
       "(76100, 6)"
      ]
     },
     "execution_count": 392,
     "metadata": {},
     "output_type": "execute_result"
    }
   ],
   "source": [
    "tmax1.shape"
   ]
  },
  {
   "cell_type": "code",
   "execution_count": 394,
   "metadata": {},
   "outputs": [],
   "source": [
    "tmax1 = df[(df['Date'] < '2015-01-01 00:00:00') & (df['Element'] == 'TMAX')]"
   ]
  },
  {
   "cell_type": "code",
   "execution_count": 395,
   "metadata": {},
   "outputs": [
    {
     "data": {
      "text/plain": [
       "(76100, 6)"
      ]
     },
     "execution_count": 395,
     "metadata": {},
     "output_type": "execute_result"
    }
   ],
   "source": [
    "tmax1.shape"
   ]
  },
  {
   "cell_type": "markdown",
   "metadata": {},
   "source": [
    "## 5. Group data by date to be plotted"
   ]
  },
  {
   "cell_type": "code",
   "execution_count": 304,
   "metadata": {},
   "outputs": [],
   "source": [
    "tmax1_group = pd.DataFrame(tmax1.groupby(['Month','Day'])['Data_Value'].max())\n",
    "tmin1_group = pd.DataFrame(tmin1.groupby(['Month','Day'])['Data_Value'].min())"
   ]
  },
  {
   "cell_type": "code",
   "execution_count": 305,
   "metadata": {},
   "outputs": [
    {
     "data": {
      "text/html": [
       "<div>\n",
       "<style scoped>\n",
       "    .dataframe tbody tr th:only-of-type {\n",
       "        vertical-align: middle;\n",
       "    }\n",
       "\n",
       "    .dataframe tbody tr th {\n",
       "        vertical-align: top;\n",
       "    }\n",
       "\n",
       "    .dataframe thead th {\n",
       "        text-align: right;\n",
       "    }\n",
       "</style>\n",
       "<table border=\"1\" class=\"dataframe\">\n",
       "  <thead>\n",
       "    <tr style=\"text-align: right;\">\n",
       "      <th></th>\n",
       "      <th></th>\n",
       "      <th>Data_Value</th>\n",
       "    </tr>\n",
       "    <tr>\n",
       "      <th>Month</th>\n",
       "      <th>Day</th>\n",
       "      <th></th>\n",
       "    </tr>\n",
       "  </thead>\n",
       "  <tbody>\n",
       "    <tr>\n",
       "      <th rowspan=\"5\" valign=\"top\">1</th>\n",
       "      <th>1</th>\n",
       "      <td>-16.0</td>\n",
       "    </tr>\n",
       "    <tr>\n",
       "      <th>2</th>\n",
       "      <td>-26.7</td>\n",
       "    </tr>\n",
       "    <tr>\n",
       "      <th>3</th>\n",
       "      <td>-26.7</td>\n",
       "    </tr>\n",
       "    <tr>\n",
       "      <th>4</th>\n",
       "      <td>-26.1</td>\n",
       "    </tr>\n",
       "    <tr>\n",
       "      <th>5</th>\n",
       "      <td>-15.0</td>\n",
       "    </tr>\n",
       "  </tbody>\n",
       "</table>\n",
       "</div>"
      ],
      "text/plain": [
       "           Data_Value\n",
       "Month Day            \n",
       "1     1         -16.0\n",
       "      2         -26.7\n",
       "      3         -26.7\n",
       "      4         -26.1\n",
       "      5         -15.0"
      ]
     },
     "execution_count": 305,
     "metadata": {},
     "output_type": "execute_result"
    }
   ],
   "source": [
    "tmin1_group.head()"
   ]
  },
  {
   "cell_type": "code",
   "execution_count": 306,
   "metadata": {},
   "outputs": [],
   "source": [
    "tmax1_group = tmax1_group.reset_index()"
   ]
  },
  {
   "cell_type": "code",
   "execution_count": 307,
   "metadata": {},
   "outputs": [
    {
     "data": {
      "text/html": [
       "<div>\n",
       "<style scoped>\n",
       "    .dataframe tbody tr th:only-of-type {\n",
       "        vertical-align: middle;\n",
       "    }\n",
       "\n",
       "    .dataframe tbody tr th {\n",
       "        vertical-align: top;\n",
       "    }\n",
       "\n",
       "    .dataframe thead th {\n",
       "        text-align: right;\n",
       "    }\n",
       "</style>\n",
       "<table border=\"1\" class=\"dataframe\">\n",
       "  <thead>\n",
       "    <tr style=\"text-align: right;\">\n",
       "      <th></th>\n",
       "      <th>Month</th>\n",
       "      <th>Day</th>\n",
       "      <th>Data_Value</th>\n",
       "    </tr>\n",
       "  </thead>\n",
       "  <tbody>\n",
       "    <tr>\n",
       "      <th>0</th>\n",
       "      <td>1</td>\n",
       "      <td>1</td>\n",
       "      <td>15.6</td>\n",
       "    </tr>\n",
       "    <tr>\n",
       "      <th>1</th>\n",
       "      <td>1</td>\n",
       "      <td>2</td>\n",
       "      <td>13.9</td>\n",
       "    </tr>\n",
       "    <tr>\n",
       "      <th>2</th>\n",
       "      <td>1</td>\n",
       "      <td>3</td>\n",
       "      <td>13.3</td>\n",
       "    </tr>\n",
       "    <tr>\n",
       "      <th>3</th>\n",
       "      <td>1</td>\n",
       "      <td>4</td>\n",
       "      <td>10.6</td>\n",
       "    </tr>\n",
       "    <tr>\n",
       "      <th>4</th>\n",
       "      <td>1</td>\n",
       "      <td>5</td>\n",
       "      <td>12.8</td>\n",
       "    </tr>\n",
       "  </tbody>\n",
       "</table>\n",
       "</div>"
      ],
      "text/plain": [
       "   Month  Day  Data_Value\n",
       "0      1    1        15.6\n",
       "1      1    2        13.9\n",
       "2      1    3        13.3\n",
       "3      1    4        10.6\n",
       "4      1    5        12.8"
      ]
     },
     "execution_count": 307,
     "metadata": {},
     "output_type": "execute_result"
    }
   ],
   "source": [
    "tmax1_group.head()"
   ]
  },
  {
   "cell_type": "code",
   "execution_count": 308,
   "metadata": {},
   "outputs": [],
   "source": [
    "tmax1_group['cDay'] = tmax1_group['Month'].astype(str) + '-' + tmax1_group['Day'].astype(str)\n",
    "tmax1_group.set_index('cDay', inplace=True)"
   ]
  },
  {
   "cell_type": "code",
   "execution_count": 309,
   "metadata": {},
   "outputs": [],
   "source": [
    "tmin1_group = tmin1_group.reset_index()\n",
    "tmin1_group['cDay'] = tmin1_group['Month'].astype(str) + '-' + tmin1_group['Day'].astype(str)\n",
    "tmin1_group.set_index('cDay', inplace=True)"
   ]
  },
  {
   "cell_type": "code",
   "execution_count": 310,
   "metadata": {},
   "outputs": [
    {
     "data": {
      "text/html": [
       "<div>\n",
       "<style scoped>\n",
       "    .dataframe tbody tr th:only-of-type {\n",
       "        vertical-align: middle;\n",
       "    }\n",
       "\n",
       "    .dataframe tbody tr th {\n",
       "        vertical-align: top;\n",
       "    }\n",
       "\n",
       "    .dataframe thead th {\n",
       "        text-align: right;\n",
       "    }\n",
       "</style>\n",
       "<table border=\"1\" class=\"dataframe\">\n",
       "  <thead>\n",
       "    <tr style=\"text-align: right;\">\n",
       "      <th></th>\n",
       "      <th>Month</th>\n",
       "      <th>Day</th>\n",
       "      <th>Data_Value</th>\n",
       "    </tr>\n",
       "    <tr>\n",
       "      <th>cDay</th>\n",
       "      <th></th>\n",
       "      <th></th>\n",
       "      <th></th>\n",
       "    </tr>\n",
       "  </thead>\n",
       "  <tbody>\n",
       "    <tr>\n",
       "      <th>1-1</th>\n",
       "      <td>1</td>\n",
       "      <td>1</td>\n",
       "      <td>15.6</td>\n",
       "    </tr>\n",
       "    <tr>\n",
       "      <th>1-2</th>\n",
       "      <td>1</td>\n",
       "      <td>2</td>\n",
       "      <td>13.9</td>\n",
       "    </tr>\n",
       "    <tr>\n",
       "      <th>1-3</th>\n",
       "      <td>1</td>\n",
       "      <td>3</td>\n",
       "      <td>13.3</td>\n",
       "    </tr>\n",
       "    <tr>\n",
       "      <th>1-4</th>\n",
       "      <td>1</td>\n",
       "      <td>4</td>\n",
       "      <td>10.6</td>\n",
       "    </tr>\n",
       "    <tr>\n",
       "      <th>1-5</th>\n",
       "      <td>1</td>\n",
       "      <td>5</td>\n",
       "      <td>12.8</td>\n",
       "    </tr>\n",
       "  </tbody>\n",
       "</table>\n",
       "</div>"
      ],
      "text/plain": [
       "      Month  Day  Data_Value\n",
       "cDay                        \n",
       "1-1       1    1        15.6\n",
       "1-2       1    2        13.9\n",
       "1-3       1    3        13.3\n",
       "1-4       1    4        10.6\n",
       "1-5       1    5        12.8"
      ]
     },
     "execution_count": 310,
     "metadata": {},
     "output_type": "execute_result"
    }
   ],
   "source": [
    "tmax1_group.head()"
   ]
  },
  {
   "cell_type": "code",
   "execution_count": 311,
   "metadata": {},
   "outputs": [
    {
     "data": {
      "text/html": [
       "<div>\n",
       "<style scoped>\n",
       "    .dataframe tbody tr th:only-of-type {\n",
       "        vertical-align: middle;\n",
       "    }\n",
       "\n",
       "    .dataframe tbody tr th {\n",
       "        vertical-align: top;\n",
       "    }\n",
       "\n",
       "    .dataframe thead th {\n",
       "        text-align: right;\n",
       "    }\n",
       "</style>\n",
       "<table border=\"1\" class=\"dataframe\">\n",
       "  <thead>\n",
       "    <tr style=\"text-align: right;\">\n",
       "      <th></th>\n",
       "      <th>Month</th>\n",
       "      <th>Day</th>\n",
       "      <th>Data_Value</th>\n",
       "    </tr>\n",
       "    <tr>\n",
       "      <th>cDay</th>\n",
       "      <th></th>\n",
       "      <th></th>\n",
       "      <th></th>\n",
       "    </tr>\n",
       "  </thead>\n",
       "  <tbody>\n",
       "    <tr>\n",
       "      <th>1-1</th>\n",
       "      <td>1</td>\n",
       "      <td>1</td>\n",
       "      <td>-16.0</td>\n",
       "    </tr>\n",
       "    <tr>\n",
       "      <th>1-2</th>\n",
       "      <td>1</td>\n",
       "      <td>2</td>\n",
       "      <td>-26.7</td>\n",
       "    </tr>\n",
       "    <tr>\n",
       "      <th>1-3</th>\n",
       "      <td>1</td>\n",
       "      <td>3</td>\n",
       "      <td>-26.7</td>\n",
       "    </tr>\n",
       "    <tr>\n",
       "      <th>1-4</th>\n",
       "      <td>1</td>\n",
       "      <td>4</td>\n",
       "      <td>-26.1</td>\n",
       "    </tr>\n",
       "    <tr>\n",
       "      <th>1-5</th>\n",
       "      <td>1</td>\n",
       "      <td>5</td>\n",
       "      <td>-15.0</td>\n",
       "    </tr>\n",
       "  </tbody>\n",
       "</table>\n",
       "</div>"
      ],
      "text/plain": [
       "      Month  Day  Data_Value\n",
       "cDay                        \n",
       "1-1       1    1       -16.0\n",
       "1-2       1    2       -26.7\n",
       "1-3       1    3       -26.7\n",
       "1-4       1    4       -26.1\n",
       "1-5       1    5       -15.0"
      ]
     },
     "execution_count": 311,
     "metadata": {},
     "output_type": "execute_result"
    }
   ],
   "source": [
    "tmin1_group.head()"
   ]
  },
  {
   "cell_type": "markdown",
   "metadata": {},
   "source": [
    "**For 2015 Data find values that are breaking the 10 year record.**"
   ]
  },
  {
   "cell_type": "code",
   "execution_count": 312,
   "metadata": {},
   "outputs": [],
   "source": [
    "# 2015 Data\n",
    "tmax2_group = pd.DataFrame(tmax2.groupby(['Month','Day'])['Data_Value'].max())\n",
    "tmin2_group = pd.DataFrame(tmin2.groupby(['Month','Day'])['Data_Value'].min())"
   ]
  },
  {
   "cell_type": "code",
   "execution_count": 313,
   "metadata": {},
   "outputs": [],
   "source": [
    "tmax2_group = tmax2_group.reset_index()\n",
    "tmax2_group['cDay'] = tmax2_group['Month'].astype(str) + '-' + tmax2_group['Day'].astype(str)\n",
    "tmax2_group.set_index('cDay', inplace=True)\n",
    "\n",
    "tmin2_group = tmin2_group.reset_index()\n",
    "tmin2_group['cDay'] = tmin2_group['Month'].astype(str) + '-' + tmin2_group['Day'].astype(str)\n",
    "tmin2_group.set_index('cDay', inplace=True)"
   ]
  },
  {
   "cell_type": "code",
   "execution_count": 314,
   "metadata": {},
   "outputs": [
    {
     "data": {
      "text/html": [
       "<div>\n",
       "<style scoped>\n",
       "    .dataframe tbody tr th:only-of-type {\n",
       "        vertical-align: middle;\n",
       "    }\n",
       "\n",
       "    .dataframe tbody tr th {\n",
       "        vertical-align: top;\n",
       "    }\n",
       "\n",
       "    .dataframe thead th {\n",
       "        text-align: right;\n",
       "    }\n",
       "</style>\n",
       "<table border=\"1\" class=\"dataframe\">\n",
       "  <thead>\n",
       "    <tr style=\"text-align: right;\">\n",
       "      <th></th>\n",
       "      <th>Month</th>\n",
       "      <th>Day</th>\n",
       "      <th>Data_Value</th>\n",
       "    </tr>\n",
       "    <tr>\n",
       "      <th>cDay</th>\n",
       "      <th></th>\n",
       "      <th></th>\n",
       "      <th></th>\n",
       "    </tr>\n",
       "  </thead>\n",
       "  <tbody>\n",
       "    <tr>\n",
       "      <th>1-1</th>\n",
       "      <td>1</td>\n",
       "      <td>1</td>\n",
       "      <td>1.1</td>\n",
       "    </tr>\n",
       "    <tr>\n",
       "      <th>1-2</th>\n",
       "      <td>1</td>\n",
       "      <td>2</td>\n",
       "      <td>3.9</td>\n",
       "    </tr>\n",
       "    <tr>\n",
       "      <th>1-3</th>\n",
       "      <td>1</td>\n",
       "      <td>3</td>\n",
       "      <td>3.9</td>\n",
       "    </tr>\n",
       "    <tr>\n",
       "      <th>1-4</th>\n",
       "      <td>1</td>\n",
       "      <td>4</td>\n",
       "      <td>4.4</td>\n",
       "    </tr>\n",
       "    <tr>\n",
       "      <th>1-5</th>\n",
       "      <td>1</td>\n",
       "      <td>5</td>\n",
       "      <td>2.8</td>\n",
       "    </tr>\n",
       "  </tbody>\n",
       "</table>\n",
       "</div>"
      ],
      "text/plain": [
       "      Month  Day  Data_Value\n",
       "cDay                        \n",
       "1-1       1    1         1.1\n",
       "1-2       1    2         3.9\n",
       "1-3       1    3         3.9\n",
       "1-4       1    4         4.4\n",
       "1-5       1    5         2.8"
      ]
     },
     "execution_count": 314,
     "metadata": {},
     "output_type": "execute_result"
    }
   ],
   "source": [
    "tmax2_group.head()"
   ]
  },
  {
   "cell_type": "code",
   "execution_count": 315,
   "metadata": {},
   "outputs": [],
   "source": [
    "tmax2_record = tmax2_group[tmax2_group['Data_Value'] > tmax1_group['Data_Value']]"
   ]
  },
  {
   "cell_type": "code",
   "execution_count": 333,
   "metadata": {},
   "outputs": [],
   "source": [
    "tmin2_record = tmin2_group[tmin2_group['Data_Value'] < tmin1_group['Data_Value']]"
   ]
  },
  {
   "cell_type": "code",
   "execution_count": 327,
   "metadata": {},
   "outputs": [
    {
     "data": {
      "text/html": [
       "<div>\n",
       "<style scoped>\n",
       "    .dataframe tbody tr th:only-of-type {\n",
       "        vertical-align: middle;\n",
       "    }\n",
       "\n",
       "    .dataframe tbody tr th {\n",
       "        vertical-align: top;\n",
       "    }\n",
       "\n",
       "    .dataframe thead th {\n",
       "        text-align: right;\n",
       "    }\n",
       "</style>\n",
       "<table border=\"1\" class=\"dataframe\">\n",
       "  <thead>\n",
       "    <tr style=\"text-align: right;\">\n",
       "      <th></th>\n",
       "      <th>Month</th>\n",
       "      <th>Day</th>\n",
       "      <th>Data_Value</th>\n",
       "    </tr>\n",
       "    <tr>\n",
       "      <th>cDay</th>\n",
       "      <th></th>\n",
       "      <th></th>\n",
       "      <th></th>\n",
       "    </tr>\n",
       "  </thead>\n",
       "  <tbody>\n",
       "    <tr>\n",
       "      <th>2-9</th>\n",
       "      <td>2</td>\n",
       "      <td>9</td>\n",
       "      <td>8.3</td>\n",
       "    </tr>\n",
       "    <tr>\n",
       "      <th>4-17</th>\n",
       "      <td>4</td>\n",
       "      <td>17</td>\n",
       "      <td>27.8</td>\n",
       "    </tr>\n",
       "    <tr>\n",
       "      <th>5-7</th>\n",
       "      <td>5</td>\n",
       "      <td>7</td>\n",
       "      <td>30.6</td>\n",
       "    </tr>\n",
       "    <tr>\n",
       "      <th>5-8</th>\n",
       "      <td>5</td>\n",
       "      <td>8</td>\n",
       "      <td>33.3</td>\n",
       "    </tr>\n",
       "    <tr>\n",
       "      <th>5-11</th>\n",
       "      <td>5</td>\n",
       "      <td>11</td>\n",
       "      <td>30.6</td>\n",
       "    </tr>\n",
       "  </tbody>\n",
       "</table>\n",
       "</div>"
      ],
      "text/plain": [
       "      Month  Day  Data_Value\n",
       "cDay                        \n",
       "2-9       2    9         8.3\n",
       "4-17      4   17        27.8\n",
       "5-7       5    7        30.6\n",
       "5-8       5    8        33.3\n",
       "5-11      5   11        30.6"
      ]
     },
     "execution_count": 327,
     "metadata": {},
     "output_type": "execute_result"
    }
   ],
   "source": [
    "tmax2_record.head()"
   ]
  },
  {
   "cell_type": "markdown",
   "metadata": {},
   "source": [
    "## 6. Plot Data"
   ]
  },
  {
   "cell_type": "code",
   "execution_count": 328,
   "metadata": {},
   "outputs": [
    {
     "data": {
      "text/plain": [
       "30"
      ]
     },
     "execution_count": 328,
     "metadata": {},
     "output_type": "execute_result"
    }
   ],
   "source": [
    "int(len(tmax1_group.index.values)/12)"
   ]
  },
  {
   "cell_type": "code",
   "execution_count": 329,
   "metadata": {},
   "outputs": [],
   "source": [
    "%matplotlib notebook"
   ]
  },
  {
   "cell_type": "code",
   "execution_count": 377,
   "metadata": {},
   "outputs": [
    {
     "data": {
      "application/javascript": [
       "/* Put everything inside the global mpl namespace */\n",
       "window.mpl = {};\n",
       "\n",
       "\n",
       "mpl.get_websocket_type = function() {\n",
       "    if (typeof(WebSocket) !== 'undefined') {\n",
       "        return WebSocket;\n",
       "    } else if (typeof(MozWebSocket) !== 'undefined') {\n",
       "        return MozWebSocket;\n",
       "    } else {\n",
       "        alert('Your browser does not have WebSocket support. ' +\n",
       "              'Please try Chrome, Safari or Firefox ≥ 6. ' +\n",
       "              'Firefox 4 and 5 are also supported but you ' +\n",
       "              'have to enable WebSockets in about:config.');\n",
       "    };\n",
       "}\n",
       "\n",
       "mpl.figure = function(figure_id, websocket, ondownload, parent_element) {\n",
       "    this.id = figure_id;\n",
       "\n",
       "    this.ws = websocket;\n",
       "\n",
       "    this.supports_binary = (this.ws.binaryType != undefined);\n",
       "\n",
       "    if (!this.supports_binary) {\n",
       "        var warnings = document.getElementById(\"mpl-warnings\");\n",
       "        if (warnings) {\n",
       "            warnings.style.display = 'block';\n",
       "            warnings.textContent = (\n",
       "                \"This browser does not support binary websocket messages. \" +\n",
       "                    \"Performance may be slow.\");\n",
       "        }\n",
       "    }\n",
       "\n",
       "    this.imageObj = new Image();\n",
       "\n",
       "    this.context = undefined;\n",
       "    this.message = undefined;\n",
       "    this.canvas = undefined;\n",
       "    this.rubberband_canvas = undefined;\n",
       "    this.rubberband_context = undefined;\n",
       "    this.format_dropdown = undefined;\n",
       "\n",
       "    this.image_mode = 'full';\n",
       "\n",
       "    this.root = $('<div/>');\n",
       "    this._root_extra_style(this.root)\n",
       "    this.root.attr('style', 'display: inline-block');\n",
       "\n",
       "    $(parent_element).append(this.root);\n",
       "\n",
       "    this._init_header(this);\n",
       "    this._init_canvas(this);\n",
       "    this._init_toolbar(this);\n",
       "\n",
       "    var fig = this;\n",
       "\n",
       "    this.waiting = false;\n",
       "\n",
       "    this.ws.onopen =  function () {\n",
       "            fig.send_message(\"supports_binary\", {value: fig.supports_binary});\n",
       "            fig.send_message(\"send_image_mode\", {});\n",
       "            if (mpl.ratio != 1) {\n",
       "                fig.send_message(\"set_dpi_ratio\", {'dpi_ratio': mpl.ratio});\n",
       "            }\n",
       "            fig.send_message(\"refresh\", {});\n",
       "        }\n",
       "\n",
       "    this.imageObj.onload = function() {\n",
       "            if (fig.image_mode == 'full') {\n",
       "                // Full images could contain transparency (where diff images\n",
       "                // almost always do), so we need to clear the canvas so that\n",
       "                // there is no ghosting.\n",
       "                fig.context.clearRect(0, 0, fig.canvas.width, fig.canvas.height);\n",
       "            }\n",
       "            fig.context.drawImage(fig.imageObj, 0, 0);\n",
       "        };\n",
       "\n",
       "    this.imageObj.onunload = function() {\n",
       "        fig.ws.close();\n",
       "    }\n",
       "\n",
       "    this.ws.onmessage = this._make_on_message_function(this);\n",
       "\n",
       "    this.ondownload = ondownload;\n",
       "}\n",
       "\n",
       "mpl.figure.prototype._init_header = function() {\n",
       "    var titlebar = $(\n",
       "        '<div class=\"ui-dialog-titlebar ui-widget-header ui-corner-all ' +\n",
       "        'ui-helper-clearfix\"/>');\n",
       "    var titletext = $(\n",
       "        '<div class=\"ui-dialog-title\" style=\"width: 100%; ' +\n",
       "        'text-align: center; padding: 3px;\"/>');\n",
       "    titlebar.append(titletext)\n",
       "    this.root.append(titlebar);\n",
       "    this.header = titletext[0];\n",
       "}\n",
       "\n",
       "\n",
       "\n",
       "mpl.figure.prototype._canvas_extra_style = function(canvas_div) {\n",
       "\n",
       "}\n",
       "\n",
       "\n",
       "mpl.figure.prototype._root_extra_style = function(canvas_div) {\n",
       "\n",
       "}\n",
       "\n",
       "mpl.figure.prototype._init_canvas = function() {\n",
       "    var fig = this;\n",
       "\n",
       "    var canvas_div = $('<div/>');\n",
       "\n",
       "    canvas_div.attr('style', 'position: relative; clear: both; outline: 0');\n",
       "\n",
       "    function canvas_keyboard_event(event) {\n",
       "        return fig.key_event(event, event['data']);\n",
       "    }\n",
       "\n",
       "    canvas_div.keydown('key_press', canvas_keyboard_event);\n",
       "    canvas_div.keyup('key_release', canvas_keyboard_event);\n",
       "    this.canvas_div = canvas_div\n",
       "    this._canvas_extra_style(canvas_div)\n",
       "    this.root.append(canvas_div);\n",
       "\n",
       "    var canvas = $('<canvas/>');\n",
       "    canvas.addClass('mpl-canvas');\n",
       "    canvas.attr('style', \"left: 0; top: 0; z-index: 0; outline: 0\")\n",
       "\n",
       "    this.canvas = canvas[0];\n",
       "    this.context = canvas[0].getContext(\"2d\");\n",
       "\n",
       "    var backingStore = this.context.backingStorePixelRatio ||\n",
       "\tthis.context.webkitBackingStorePixelRatio ||\n",
       "\tthis.context.mozBackingStorePixelRatio ||\n",
       "\tthis.context.msBackingStorePixelRatio ||\n",
       "\tthis.context.oBackingStorePixelRatio ||\n",
       "\tthis.context.backingStorePixelRatio || 1;\n",
       "\n",
       "    mpl.ratio = (window.devicePixelRatio || 1) / backingStore;\n",
       "\n",
       "    var rubberband = $('<canvas/>');\n",
       "    rubberband.attr('style', \"position: absolute; left: 0; top: 0; z-index: 1;\")\n",
       "\n",
       "    var pass_mouse_events = true;\n",
       "\n",
       "    canvas_div.resizable({\n",
       "        start: function(event, ui) {\n",
       "            pass_mouse_events = false;\n",
       "        },\n",
       "        resize: function(event, ui) {\n",
       "            fig.request_resize(ui.size.width, ui.size.height);\n",
       "        },\n",
       "        stop: function(event, ui) {\n",
       "            pass_mouse_events = true;\n",
       "            fig.request_resize(ui.size.width, ui.size.height);\n",
       "        },\n",
       "    });\n",
       "\n",
       "    function mouse_event_fn(event) {\n",
       "        if (pass_mouse_events)\n",
       "            return fig.mouse_event(event, event['data']);\n",
       "    }\n",
       "\n",
       "    rubberband.mousedown('button_press', mouse_event_fn);\n",
       "    rubberband.mouseup('button_release', mouse_event_fn);\n",
       "    // Throttle sequential mouse events to 1 every 20ms.\n",
       "    rubberband.mousemove('motion_notify', mouse_event_fn);\n",
       "\n",
       "    rubberband.mouseenter('figure_enter', mouse_event_fn);\n",
       "    rubberband.mouseleave('figure_leave', mouse_event_fn);\n",
       "\n",
       "    canvas_div.on(\"wheel\", function (event) {\n",
       "        event = event.originalEvent;\n",
       "        event['data'] = 'scroll'\n",
       "        if (event.deltaY < 0) {\n",
       "            event.step = 1;\n",
       "        } else {\n",
       "            event.step = -1;\n",
       "        }\n",
       "        mouse_event_fn(event);\n",
       "    });\n",
       "\n",
       "    canvas_div.append(canvas);\n",
       "    canvas_div.append(rubberband);\n",
       "\n",
       "    this.rubberband = rubberband;\n",
       "    this.rubberband_canvas = rubberband[0];\n",
       "    this.rubberband_context = rubberband[0].getContext(\"2d\");\n",
       "    this.rubberband_context.strokeStyle = \"#000000\";\n",
       "\n",
       "    this._resize_canvas = function(width, height) {\n",
       "        // Keep the size of the canvas, canvas container, and rubber band\n",
       "        // canvas in synch.\n",
       "        canvas_div.css('width', width)\n",
       "        canvas_div.css('height', height)\n",
       "\n",
       "        canvas.attr('width', width * mpl.ratio);\n",
       "        canvas.attr('height', height * mpl.ratio);\n",
       "        canvas.attr('style', 'width: ' + width + 'px; height: ' + height + 'px;');\n",
       "\n",
       "        rubberband.attr('width', width);\n",
       "        rubberband.attr('height', height);\n",
       "    }\n",
       "\n",
       "    // Set the figure to an initial 600x600px, this will subsequently be updated\n",
       "    // upon first draw.\n",
       "    this._resize_canvas(600, 600);\n",
       "\n",
       "    // Disable right mouse context menu.\n",
       "    $(this.rubberband_canvas).bind(\"contextmenu\",function(e){\n",
       "        return false;\n",
       "    });\n",
       "\n",
       "    function set_focus () {\n",
       "        canvas.focus();\n",
       "        canvas_div.focus();\n",
       "    }\n",
       "\n",
       "    window.setTimeout(set_focus, 100);\n",
       "}\n",
       "\n",
       "mpl.figure.prototype._init_toolbar = function() {\n",
       "    var fig = this;\n",
       "\n",
       "    var nav_element = $('<div/>');\n",
       "    nav_element.attr('style', 'width: 100%');\n",
       "    this.root.append(nav_element);\n",
       "\n",
       "    // Define a callback function for later on.\n",
       "    function toolbar_event(event) {\n",
       "        return fig.toolbar_button_onclick(event['data']);\n",
       "    }\n",
       "    function toolbar_mouse_event(event) {\n",
       "        return fig.toolbar_button_onmouseover(event['data']);\n",
       "    }\n",
       "\n",
       "    for(var toolbar_ind in mpl.toolbar_items) {\n",
       "        var name = mpl.toolbar_items[toolbar_ind][0];\n",
       "        var tooltip = mpl.toolbar_items[toolbar_ind][1];\n",
       "        var image = mpl.toolbar_items[toolbar_ind][2];\n",
       "        var method_name = mpl.toolbar_items[toolbar_ind][3];\n",
       "\n",
       "        if (!name) {\n",
       "            // put a spacer in here.\n",
       "            continue;\n",
       "        }\n",
       "        var button = $('<button/>');\n",
       "        button.addClass('ui-button ui-widget ui-state-default ui-corner-all ' +\n",
       "                        'ui-button-icon-only');\n",
       "        button.attr('role', 'button');\n",
       "        button.attr('aria-disabled', 'false');\n",
       "        button.click(method_name, toolbar_event);\n",
       "        button.mouseover(tooltip, toolbar_mouse_event);\n",
       "\n",
       "        var icon_img = $('<span/>');\n",
       "        icon_img.addClass('ui-button-icon-primary ui-icon');\n",
       "        icon_img.addClass(image);\n",
       "        icon_img.addClass('ui-corner-all');\n",
       "\n",
       "        var tooltip_span = $('<span/>');\n",
       "        tooltip_span.addClass('ui-button-text');\n",
       "        tooltip_span.html(tooltip);\n",
       "\n",
       "        button.append(icon_img);\n",
       "        button.append(tooltip_span);\n",
       "\n",
       "        nav_element.append(button);\n",
       "    }\n",
       "\n",
       "    var fmt_picker_span = $('<span/>');\n",
       "\n",
       "    var fmt_picker = $('<select/>');\n",
       "    fmt_picker.addClass('mpl-toolbar-option ui-widget ui-widget-content');\n",
       "    fmt_picker_span.append(fmt_picker);\n",
       "    nav_element.append(fmt_picker_span);\n",
       "    this.format_dropdown = fmt_picker[0];\n",
       "\n",
       "    for (var ind in mpl.extensions) {\n",
       "        var fmt = mpl.extensions[ind];\n",
       "        var option = $(\n",
       "            '<option/>', {selected: fmt === mpl.default_extension}).html(fmt);\n",
       "        fmt_picker.append(option);\n",
       "    }\n",
       "\n",
       "    // Add hover states to the ui-buttons\n",
       "    $( \".ui-button\" ).hover(\n",
       "        function() { $(this).addClass(\"ui-state-hover\");},\n",
       "        function() { $(this).removeClass(\"ui-state-hover\");}\n",
       "    );\n",
       "\n",
       "    var status_bar = $('<span class=\"mpl-message\"/>');\n",
       "    nav_element.append(status_bar);\n",
       "    this.message = status_bar[0];\n",
       "}\n",
       "\n",
       "mpl.figure.prototype.request_resize = function(x_pixels, y_pixels) {\n",
       "    // Request matplotlib to resize the figure. Matplotlib will then trigger a resize in the client,\n",
       "    // which will in turn request a refresh of the image.\n",
       "    this.send_message('resize', {'width': x_pixels, 'height': y_pixels});\n",
       "}\n",
       "\n",
       "mpl.figure.prototype.send_message = function(type, properties) {\n",
       "    properties['type'] = type;\n",
       "    properties['figure_id'] = this.id;\n",
       "    this.ws.send(JSON.stringify(properties));\n",
       "}\n",
       "\n",
       "mpl.figure.prototype.send_draw_message = function() {\n",
       "    if (!this.waiting) {\n",
       "        this.waiting = true;\n",
       "        this.ws.send(JSON.stringify({type: \"draw\", figure_id: this.id}));\n",
       "    }\n",
       "}\n",
       "\n",
       "\n",
       "mpl.figure.prototype.handle_save = function(fig, msg) {\n",
       "    var format_dropdown = fig.format_dropdown;\n",
       "    var format = format_dropdown.options[format_dropdown.selectedIndex].value;\n",
       "    fig.ondownload(fig, format);\n",
       "}\n",
       "\n",
       "\n",
       "mpl.figure.prototype.handle_resize = function(fig, msg) {\n",
       "    var size = msg['size'];\n",
       "    if (size[0] != fig.canvas.width || size[1] != fig.canvas.height) {\n",
       "        fig._resize_canvas(size[0], size[1]);\n",
       "        fig.send_message(\"refresh\", {});\n",
       "    };\n",
       "}\n",
       "\n",
       "mpl.figure.prototype.handle_rubberband = function(fig, msg) {\n",
       "    var x0 = msg['x0'] / mpl.ratio;\n",
       "    var y0 = (fig.canvas.height - msg['y0']) / mpl.ratio;\n",
       "    var x1 = msg['x1'] / mpl.ratio;\n",
       "    var y1 = (fig.canvas.height - msg['y1']) / mpl.ratio;\n",
       "    x0 = Math.floor(x0) + 0.5;\n",
       "    y0 = Math.floor(y0) + 0.5;\n",
       "    x1 = Math.floor(x1) + 0.5;\n",
       "    y1 = Math.floor(y1) + 0.5;\n",
       "    var min_x = Math.min(x0, x1);\n",
       "    var min_y = Math.min(y0, y1);\n",
       "    var width = Math.abs(x1 - x0);\n",
       "    var height = Math.abs(y1 - y0);\n",
       "\n",
       "    fig.rubberband_context.clearRect(\n",
       "        0, 0, fig.canvas.width, fig.canvas.height);\n",
       "\n",
       "    fig.rubberband_context.strokeRect(min_x, min_y, width, height);\n",
       "}\n",
       "\n",
       "mpl.figure.prototype.handle_figure_label = function(fig, msg) {\n",
       "    // Updates the figure title.\n",
       "    fig.header.textContent = msg['label'];\n",
       "}\n",
       "\n",
       "mpl.figure.prototype.handle_cursor = function(fig, msg) {\n",
       "    var cursor = msg['cursor'];\n",
       "    switch(cursor)\n",
       "    {\n",
       "    case 0:\n",
       "        cursor = 'pointer';\n",
       "        break;\n",
       "    case 1:\n",
       "        cursor = 'default';\n",
       "        break;\n",
       "    case 2:\n",
       "        cursor = 'crosshair';\n",
       "        break;\n",
       "    case 3:\n",
       "        cursor = 'move';\n",
       "        break;\n",
       "    }\n",
       "    fig.rubberband_canvas.style.cursor = cursor;\n",
       "}\n",
       "\n",
       "mpl.figure.prototype.handle_message = function(fig, msg) {\n",
       "    fig.message.textContent = msg['message'];\n",
       "}\n",
       "\n",
       "mpl.figure.prototype.handle_draw = function(fig, msg) {\n",
       "    // Request the server to send over a new figure.\n",
       "    fig.send_draw_message();\n",
       "}\n",
       "\n",
       "mpl.figure.prototype.handle_image_mode = function(fig, msg) {\n",
       "    fig.image_mode = msg['mode'];\n",
       "}\n",
       "\n",
       "mpl.figure.prototype.updated_canvas_event = function() {\n",
       "    // Called whenever the canvas gets updated.\n",
       "    this.send_message(\"ack\", {});\n",
       "}\n",
       "\n",
       "// A function to construct a web socket function for onmessage handling.\n",
       "// Called in the figure constructor.\n",
       "mpl.figure.prototype._make_on_message_function = function(fig) {\n",
       "    return function socket_on_message(evt) {\n",
       "        if (evt.data instanceof Blob) {\n",
       "            /* FIXME: We get \"Resource interpreted as Image but\n",
       "             * transferred with MIME type text/plain:\" errors on\n",
       "             * Chrome.  But how to set the MIME type?  It doesn't seem\n",
       "             * to be part of the websocket stream */\n",
       "            evt.data.type = \"image/png\";\n",
       "\n",
       "            /* Free the memory for the previous frames */\n",
       "            if (fig.imageObj.src) {\n",
       "                (window.URL || window.webkitURL).revokeObjectURL(\n",
       "                    fig.imageObj.src);\n",
       "            }\n",
       "\n",
       "            fig.imageObj.src = (window.URL || window.webkitURL).createObjectURL(\n",
       "                evt.data);\n",
       "            fig.updated_canvas_event();\n",
       "            fig.waiting = false;\n",
       "            return;\n",
       "        }\n",
       "        else if (typeof evt.data === 'string' && evt.data.slice(0, 21) == \"data:image/png;base64\") {\n",
       "            fig.imageObj.src = evt.data;\n",
       "            fig.updated_canvas_event();\n",
       "            fig.waiting = false;\n",
       "            return;\n",
       "        }\n",
       "\n",
       "        var msg = JSON.parse(evt.data);\n",
       "        var msg_type = msg['type'];\n",
       "\n",
       "        // Call the  \"handle_{type}\" callback, which takes\n",
       "        // the figure and JSON message as its only arguments.\n",
       "        try {\n",
       "            var callback = fig[\"handle_\" + msg_type];\n",
       "        } catch (e) {\n",
       "            console.log(\"No handler for the '\" + msg_type + \"' message type: \", msg);\n",
       "            return;\n",
       "        }\n",
       "\n",
       "        if (callback) {\n",
       "            try {\n",
       "                // console.log(\"Handling '\" + msg_type + \"' message: \", msg);\n",
       "                callback(fig, msg);\n",
       "            } catch (e) {\n",
       "                console.log(\"Exception inside the 'handler_\" + msg_type + \"' callback:\", e, e.stack, msg);\n",
       "            }\n",
       "        }\n",
       "    };\n",
       "}\n",
       "\n",
       "// from http://stackoverflow.com/questions/1114465/getting-mouse-location-in-canvas\n",
       "mpl.findpos = function(e) {\n",
       "    //this section is from http://www.quirksmode.org/js/events_properties.html\n",
       "    var targ;\n",
       "    if (!e)\n",
       "        e = window.event;\n",
       "    if (e.target)\n",
       "        targ = e.target;\n",
       "    else if (e.srcElement)\n",
       "        targ = e.srcElement;\n",
       "    if (targ.nodeType == 3) // defeat Safari bug\n",
       "        targ = targ.parentNode;\n",
       "\n",
       "    // jQuery normalizes the pageX and pageY\n",
       "    // pageX,Y are the mouse positions relative to the document\n",
       "    // offset() returns the position of the element relative to the document\n",
       "    var x = e.pageX - $(targ).offset().left;\n",
       "    var y = e.pageY - $(targ).offset().top;\n",
       "\n",
       "    return {\"x\": x, \"y\": y};\n",
       "};\n",
       "\n",
       "/*\n",
       " * return a copy of an object with only non-object keys\n",
       " * we need this to avoid circular references\n",
       " * http://stackoverflow.com/a/24161582/3208463\n",
       " */\n",
       "function simpleKeys (original) {\n",
       "  return Object.keys(original).reduce(function (obj, key) {\n",
       "    if (typeof original[key] !== 'object')\n",
       "        obj[key] = original[key]\n",
       "    return obj;\n",
       "  }, {});\n",
       "}\n",
       "\n",
       "mpl.figure.prototype.mouse_event = function(event, name) {\n",
       "    var canvas_pos = mpl.findpos(event)\n",
       "\n",
       "    if (name === 'button_press')\n",
       "    {\n",
       "        this.canvas.focus();\n",
       "        this.canvas_div.focus();\n",
       "    }\n",
       "\n",
       "    var x = canvas_pos.x * mpl.ratio;\n",
       "    var y = canvas_pos.y * mpl.ratio;\n",
       "\n",
       "    this.send_message(name, {x: x, y: y, button: event.button,\n",
       "                             step: event.step,\n",
       "                             guiEvent: simpleKeys(event)});\n",
       "\n",
       "    /* This prevents the web browser from automatically changing to\n",
       "     * the text insertion cursor when the button is pressed.  We want\n",
       "     * to control all of the cursor setting manually through the\n",
       "     * 'cursor' event from matplotlib */\n",
       "    event.preventDefault();\n",
       "    return false;\n",
       "}\n",
       "\n",
       "mpl.figure.prototype._key_event_extra = function(event, name) {\n",
       "    // Handle any extra behaviour associated with a key event\n",
       "}\n",
       "\n",
       "mpl.figure.prototype.key_event = function(event, name) {\n",
       "\n",
       "    // Prevent repeat events\n",
       "    if (name == 'key_press')\n",
       "    {\n",
       "        if (event.which === this._key)\n",
       "            return;\n",
       "        else\n",
       "            this._key = event.which;\n",
       "    }\n",
       "    if (name == 'key_release')\n",
       "        this._key = null;\n",
       "\n",
       "    var value = '';\n",
       "    if (event.ctrlKey && event.which != 17)\n",
       "        value += \"ctrl+\";\n",
       "    if (event.altKey && event.which != 18)\n",
       "        value += \"alt+\";\n",
       "    if (event.shiftKey && event.which != 16)\n",
       "        value += \"shift+\";\n",
       "\n",
       "    value += 'k';\n",
       "    value += event.which.toString();\n",
       "\n",
       "    this._key_event_extra(event, name);\n",
       "\n",
       "    this.send_message(name, {key: value,\n",
       "                             guiEvent: simpleKeys(event)});\n",
       "    return false;\n",
       "}\n",
       "\n",
       "mpl.figure.prototype.toolbar_button_onclick = function(name) {\n",
       "    if (name == 'download') {\n",
       "        this.handle_save(this, null);\n",
       "    } else {\n",
       "        this.send_message(\"toolbar_button\", {name: name});\n",
       "    }\n",
       "};\n",
       "\n",
       "mpl.figure.prototype.toolbar_button_onmouseover = function(tooltip) {\n",
       "    this.message.textContent = tooltip;\n",
       "};\n",
       "mpl.toolbar_items = [[\"Home\", \"Reset original view\", \"fa fa-home icon-home\", \"home\"], [\"Back\", \"Back to previous view\", \"fa fa-arrow-left icon-arrow-left\", \"back\"], [\"Forward\", \"Forward to next view\", \"fa fa-arrow-right icon-arrow-right\", \"forward\"], [\"\", \"\", \"\", \"\"], [\"Pan\", \"Pan axes with left mouse, zoom with right\", \"fa fa-arrows icon-move\", \"pan\"], [\"Zoom\", \"Zoom to rectangle\", \"fa fa-square-o icon-check-empty\", \"zoom\"], [\"\", \"\", \"\", \"\"], [\"Download\", \"Download plot\", \"fa fa-floppy-o icon-save\", \"download\"]];\n",
       "\n",
       "mpl.extensions = [\"eps\", \"jpeg\", \"pdf\", \"png\", \"ps\", \"raw\", \"svg\", \"tif\"];\n",
       "\n",
       "mpl.default_extension = \"png\";var comm_websocket_adapter = function(comm) {\n",
       "    // Create a \"websocket\"-like object which calls the given IPython comm\n",
       "    // object with the appropriate methods. Currently this is a non binary\n",
       "    // socket, so there is still some room for performance tuning.\n",
       "    var ws = {};\n",
       "\n",
       "    ws.close = function() {\n",
       "        comm.close()\n",
       "    };\n",
       "    ws.send = function(m) {\n",
       "        //console.log('sending', m);\n",
       "        comm.send(m);\n",
       "    };\n",
       "    // Register the callback with on_msg.\n",
       "    comm.on_msg(function(msg) {\n",
       "        //console.log('receiving', msg['content']['data'], msg);\n",
       "        // Pass the mpl event to the overridden (by mpl) onmessage function.\n",
       "        ws.onmessage(msg['content']['data'])\n",
       "    });\n",
       "    return ws;\n",
       "}\n",
       "\n",
       "mpl.mpl_figure_comm = function(comm, msg) {\n",
       "    // This is the function which gets called when the mpl process\n",
       "    // starts-up an IPython Comm through the \"matplotlib\" channel.\n",
       "\n",
       "    var id = msg.content.data.id;\n",
       "    // Get hold of the div created by the display call when the Comm\n",
       "    // socket was opened in Python.\n",
       "    var element = $(\"#\" + id);\n",
       "    var ws_proxy = comm_websocket_adapter(comm)\n",
       "\n",
       "    function ondownload(figure, format) {\n",
       "        window.open(figure.imageObj.src);\n",
       "    }\n",
       "\n",
       "    var fig = new mpl.figure(id, ws_proxy,\n",
       "                           ondownload,\n",
       "                           element.get(0));\n",
       "\n",
       "    // Call onopen now - mpl needs it, as it is assuming we've passed it a real\n",
       "    // web socket which is closed, not our websocket->open comm proxy.\n",
       "    ws_proxy.onopen();\n",
       "\n",
       "    fig.parent_element = element.get(0);\n",
       "    fig.cell_info = mpl.find_output_cell(\"<div id='\" + id + \"'></div>\");\n",
       "    if (!fig.cell_info) {\n",
       "        console.error(\"Failed to find cell for figure\", id, fig);\n",
       "        return;\n",
       "    }\n",
       "\n",
       "    var output_index = fig.cell_info[2]\n",
       "    var cell = fig.cell_info[0];\n",
       "\n",
       "};\n",
       "\n",
       "mpl.figure.prototype.handle_close = function(fig, msg) {\n",
       "    var width = fig.canvas.width/mpl.ratio\n",
       "    fig.root.unbind('remove')\n",
       "\n",
       "    // Update the output cell to use the data from the current canvas.\n",
       "    fig.push_to_output();\n",
       "    var dataURL = fig.canvas.toDataURL();\n",
       "    // Re-enable the keyboard manager in IPython - without this line, in FF,\n",
       "    // the notebook keyboard shortcuts fail.\n",
       "    IPython.keyboard_manager.enable()\n",
       "    $(fig.parent_element).html('<img src=\"' + dataURL + '\" width=\"' + width + '\">');\n",
       "    fig.close_ws(fig, msg);\n",
       "}\n",
       "\n",
       "mpl.figure.prototype.close_ws = function(fig, msg){\n",
       "    fig.send_message('closing', msg);\n",
       "    // fig.ws.close()\n",
       "}\n",
       "\n",
       "mpl.figure.prototype.push_to_output = function(remove_interactive) {\n",
       "    // Turn the data on the canvas into data in the output cell.\n",
       "    var width = this.canvas.width/mpl.ratio\n",
       "    var dataURL = this.canvas.toDataURL();\n",
       "    this.cell_info[1]['text/html'] = '<img src=\"' + dataURL + '\" width=\"' + width + '\">';\n",
       "}\n",
       "\n",
       "mpl.figure.prototype.updated_canvas_event = function() {\n",
       "    // Tell IPython that the notebook contents must change.\n",
       "    IPython.notebook.set_dirty(true);\n",
       "    this.send_message(\"ack\", {});\n",
       "    var fig = this;\n",
       "    // Wait a second, then push the new image to the DOM so\n",
       "    // that it is saved nicely (might be nice to debounce this).\n",
       "    setTimeout(function () { fig.push_to_output() }, 1000);\n",
       "}\n",
       "\n",
       "mpl.figure.prototype._init_toolbar = function() {\n",
       "    var fig = this;\n",
       "\n",
       "    var nav_element = $('<div/>');\n",
       "    nav_element.attr('style', 'width: 100%');\n",
       "    this.root.append(nav_element);\n",
       "\n",
       "    // Define a callback function for later on.\n",
       "    function toolbar_event(event) {\n",
       "        return fig.toolbar_button_onclick(event['data']);\n",
       "    }\n",
       "    function toolbar_mouse_event(event) {\n",
       "        return fig.toolbar_button_onmouseover(event['data']);\n",
       "    }\n",
       "\n",
       "    for(var toolbar_ind in mpl.toolbar_items){\n",
       "        var name = mpl.toolbar_items[toolbar_ind][0];\n",
       "        var tooltip = mpl.toolbar_items[toolbar_ind][1];\n",
       "        var image = mpl.toolbar_items[toolbar_ind][2];\n",
       "        var method_name = mpl.toolbar_items[toolbar_ind][3];\n",
       "\n",
       "        if (!name) { continue; };\n",
       "\n",
       "        var button = $('<button class=\"btn btn-default\" href=\"#\" title=\"' + name + '\"><i class=\"fa ' + image + ' fa-lg\"></i></button>');\n",
       "        button.click(method_name, toolbar_event);\n",
       "        button.mouseover(tooltip, toolbar_mouse_event);\n",
       "        nav_element.append(button);\n",
       "    }\n",
       "\n",
       "    // Add the status bar.\n",
       "    var status_bar = $('<span class=\"mpl-message\" style=\"text-align:right; float: right;\"/>');\n",
       "    nav_element.append(status_bar);\n",
       "    this.message = status_bar[0];\n",
       "\n",
       "    // Add the close button to the window.\n",
       "    var buttongrp = $('<div class=\"btn-group inline pull-right\"></div>');\n",
       "    var button = $('<button class=\"btn btn-mini btn-primary\" href=\"#\" title=\"Stop Interaction\"><i class=\"fa fa-power-off icon-remove icon-large\"></i></button>');\n",
       "    button.click(function (evt) { fig.handle_close(fig, {}); } );\n",
       "    button.mouseover('Stop Interaction', toolbar_mouse_event);\n",
       "    buttongrp.append(button);\n",
       "    var titlebar = this.root.find($('.ui-dialog-titlebar'));\n",
       "    titlebar.prepend(buttongrp);\n",
       "}\n",
       "\n",
       "mpl.figure.prototype._root_extra_style = function(el){\n",
       "    var fig = this\n",
       "    el.on(\"remove\", function(){\n",
       "\tfig.close_ws(fig, {});\n",
       "    });\n",
       "}\n",
       "\n",
       "mpl.figure.prototype._canvas_extra_style = function(el){\n",
       "    // this is important to make the div 'focusable\n",
       "    el.attr('tabindex', 0)\n",
       "    // reach out to IPython and tell the keyboard manager to turn it's self\n",
       "    // off when our div gets focus\n",
       "\n",
       "    // location in version 3\n",
       "    if (IPython.notebook.keyboard_manager) {\n",
       "        IPython.notebook.keyboard_manager.register_events(el);\n",
       "    }\n",
       "    else {\n",
       "        // location in version 2\n",
       "        IPython.keyboard_manager.register_events(el);\n",
       "    }\n",
       "\n",
       "}\n",
       "\n",
       "mpl.figure.prototype._key_event_extra = function(event, name) {\n",
       "    var manager = IPython.notebook.keyboard_manager;\n",
       "    if (!manager)\n",
       "        manager = IPython.keyboard_manager;\n",
       "\n",
       "    // Check for shift+enter\n",
       "    if (event.shiftKey && event.which == 13) {\n",
       "        this.canvas_div.blur();\n",
       "        event.shiftKey = false;\n",
       "        // Send a \"J\" for go to next cell\n",
       "        event.which = 74;\n",
       "        event.keyCode = 74;\n",
       "        manager.command_mode();\n",
       "        manager.handle_keydown(event);\n",
       "    }\n",
       "}\n",
       "\n",
       "mpl.figure.prototype.handle_save = function(fig, msg) {\n",
       "    fig.ondownload(fig, null);\n",
       "}\n",
       "\n",
       "\n",
       "mpl.find_output_cell = function(html_output) {\n",
       "    // Return the cell and output element which can be found *uniquely* in the notebook.\n",
       "    // Note - this is a bit hacky, but it is done because the \"notebook_saving.Notebook\"\n",
       "    // IPython event is triggered only after the cells have been serialised, which for\n",
       "    // our purposes (turning an active figure into a static one), is too late.\n",
       "    var cells = IPython.notebook.get_cells();\n",
       "    var ncells = cells.length;\n",
       "    for (var i=0; i<ncells; i++) {\n",
       "        var cell = cells[i];\n",
       "        if (cell.cell_type === 'code'){\n",
       "            for (var j=0; j<cell.output_area.outputs.length; j++) {\n",
       "                var data = cell.output_area.outputs[j];\n",
       "                if (data.data) {\n",
       "                    // IPython >= 3 moved mimebundle to data attribute of output\n",
       "                    data = data.data;\n",
       "                }\n",
       "                if (data['text/html'] == html_output) {\n",
       "                    return [cell, data, j];\n",
       "                }\n",
       "            }\n",
       "        }\n",
       "    }\n",
       "}\n",
       "\n",
       "// Register the function which deals with the matplotlib target/channel.\n",
       "// The kernel may be null if the page has been refreshed.\n",
       "if (IPython.notebook.kernel != null) {\n",
       "    IPython.notebook.kernel.comm_manager.register_target('matplotlib', mpl.mpl_figure_comm);\n",
       "}\n"
      ],
      "text/plain": [
       "<IPython.core.display.Javascript object>"
      ]
     },
     "metadata": {},
     "output_type": "display_data"
    },
    {
     "data": {
      "text/html": [
       "<img src=\"data:image/png;base64,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\" width=\"640\">"
      ],
      "text/plain": [
       "<IPython.core.display.HTML object>"
      ]
     },
     "metadata": {},
     "output_type": "display_data"
    },
    {
     "data": {
      "text/plain": [
       "[<matplotlib.lines.Line2D at 0x6409a92748>]"
      ]
     },
     "execution_count": 377,
     "metadata": {},
     "output_type": "execute_result"
    }
   ],
   "source": [
    "plt.figure()\n",
    "plt.plot(tmax1_group['Data_Value'], label = 'Max & Min Temperature', color='grey') \n",
    "plt.plot(tmin1_group['Data_Value'], color='grey')\n"
   ]
  },
  {
   "cell_type": "code",
   "execution_count": 378,
   "metadata": {},
   "outputs": [],
   "source": [
    "months = ['Jan','Feb','Mar','Apr','May','Jun','Jul','Aug','Sep','Oct','Nov','Dec']\n",
    "interval = int(len(tmax1_group.index.values)/12)\n",
    "pos = (np.array(range(1,13))*(interval))-15 #-15 to shift the interval 15 points back so the month name is located in the mid loc\n",
    "plt.xticks(pos, months, alpha=0.8);"
   ]
  },
  {
   "cell_type": "code",
   "execution_count": 379,
   "metadata": {},
   "outputs": [
    {
     "data": {
      "text/plain": [
       "[<matplotlib.lines.Line2D at 0x640c38cef0>]"
      ]
     },
     "execution_count": 379,
     "metadata": {},
     "output_type": "execute_result"
    }
   ],
   "source": [
    "plt.plot(tmax2_record['Data_Value'], 'o', label='record break in 2015', color='black')\n",
    "plt.plot(tmin2_record['Data_Value'], 'o', color='black')"
   ]
  },
  {
   "cell_type": "code",
   "execution_count": 387,
   "metadata": {},
   "outputs": [
    {
     "data": {
      "text/plain": [
       "<matplotlib.legend.Legend at 0x640c392cc0>"
      ]
     },
     "execution_count": 387,
     "metadata": {},
     "output_type": "execute_result"
    }
   ],
   "source": [
    "plt.legend()"
   ]
  },
  {
   "cell_type": "code",
   "execution_count": 381,
   "metadata": {},
   "outputs": [
    {
     "data": {
      "text/plain": [
       "<matplotlib.collections.PolyCollection at 0x640c392278>"
      ]
     },
     "execution_count": 381,
     "metadata": {},
     "output_type": "execute_result"
    }
   ],
   "source": [
    "plt.fill_between(\n",
    "    range(len(tmax1_group.index.values)),\n",
    "    tmax1_group['Data_Value'],\n",
    "    tmin1_group['Data_Value'],\n",
    "    facecolor = 'lightslategrey',\n",
    "    alpha = 0.25\n",
    ")"
   ]
  },
  {
   "cell_type": "code",
   "execution_count": 382,
   "metadata": {},
   "outputs": [
    {
     "data": {
      "text/plain": [
       "Text(0.5, 1, 'Max. and Min. Temperature \\n over 10 year period (2005-2014)')"
      ]
     },
     "execution_count": 382,
     "metadata": {},
     "output_type": "execute_result"
    }
   ],
   "source": [
    "plt.title('Max. and Min. Temperature \\n over 10 year period (2005-2014)')"
   ]
  },
  {
   "cell_type": "code",
   "execution_count": 383,
   "metadata": {},
   "outputs": [
    {
     "data": {
      "text/plain": [
       "Text(35.472222222222214, 0.5, 'Temperature $^{\\\\circ}$ C')"
      ]
     },
     "execution_count": 383,
     "metadata": {},
     "output_type": "execute_result"
    }
   ],
   "source": [
    "plt.ylabel('Temperature $^{\\circ}$ C')"
   ]
  },
  {
   "cell_type": "code",
   "execution_count": 385,
   "metadata": {},
   "outputs": [
    {
     "data": {
      "text/plain": [
       "(array([-40., -30., -20., -10.,   0.,  10.,  20.,  30.,  40.,  50.]),\n",
       " <a list of 10 Text yticklabel objects>)"
      ]
     },
     "execution_count": 385,
     "metadata": {},
     "output_type": "execute_result"
    }
   ],
   "source": [
    "plt.yticks(alpha=0.8)"
   ]
  },
  {
   "cell_type": "code",
   "execution_count": 389,
   "metadata": {},
   "outputs": [],
   "source": [
    "plt.savefig('visualization.jpg')"
   ]
  },
  {
   "cell_type": "code",
   "execution_count": 390,
   "metadata": {},
   "outputs": [],
   "source": [
    "plt.savefig('visualization.svg')"
   ]
  },
  {
   "cell_type": "code",
   "execution_count": 391,
   "metadata": {},
   "outputs": [],
   "source": [
    "plt.savefig('visualization.pdf')"
   ]
  },
  {
   "cell_type": "code",
   "execution_count": null,
   "metadata": {},
   "outputs": [],
   "source": []
  }
 ],
 "metadata": {
  "kernelspec": {
   "display_name": "Python 3",
   "language": "python",
   "name": "python3"
  },
  "language_info": {
   "codemirror_mode": {
    "name": "ipython",
    "version": 3
   },
   "file_extension": ".py",
   "mimetype": "text/x-python",
   "name": "python",
   "nbconvert_exporter": "python",
   "pygments_lexer": "ipython3",
   "version": "3.7.3"
  }
 },
 "nbformat": 4,
 "nbformat_minor": 2
}
